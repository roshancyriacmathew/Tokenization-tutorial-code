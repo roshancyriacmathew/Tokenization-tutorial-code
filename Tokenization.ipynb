{
 "cells": [
  {
   "cell_type": "code",
   "execution_count": 1,
   "id": "d582847d",
   "metadata": {},
   "outputs": [],
   "source": [
    "text = '''Welcome to another video by the AI and DS Channel. In todays video we are going to study about tokenization. Dont forget to subscribe and leave a like if you enjoyed this video. '''"
   ]
  },
  {
   "cell_type": "code",
   "execution_count": 2,
   "id": "19a71541",
   "metadata": {},
   "outputs": [
    {
     "name": "stdout",
     "output_type": "stream",
     "text": [
      "['Welcome', 'to', 'another', 'video', 'by', 'the', 'AI', 'and', 'DS', 'Channel.', 'In', 'todays', 'video', 'we', 'are', 'going', 'to', 'study', 'about', 'tokenization.', 'Dont', 'forget', 'to', 'subscribe', 'and', 'leave', 'a', 'like', 'if', 'you', 'enjoyed', 'this', 'video.']\n"
     ]
    }
   ],
   "source": [
    "tokens = text.split()\n",
    "print(tokens)"
   ]
  },
  {
   "cell_type": "code",
   "execution_count": 3,
   "id": "411f388f",
   "metadata": {},
   "outputs": [
    {
     "name": "stdout",
     "output_type": "stream",
     "text": [
      "['Welcome to another video by the AI and DS Channel', ' In todays video we are going to study about tokenization', ' Dont forget to subscribe and leave a like if you enjoyed this video', ' ']\n"
     ]
    }
   ],
   "source": [
    "tokens = text.split('.')\n",
    "print(tokens)"
   ]
  },
  {
   "cell_type": "code",
   "execution_count": 4,
   "id": "61dcc5a8",
   "metadata": {},
   "outputs": [],
   "source": [
    "import nltk\n",
    "from nltk.tokenize import word_tokenize, sent_tokenize"
   ]
  },
  {
   "cell_type": "code",
   "execution_count": 5,
   "id": "d1ee1c76",
   "metadata": {},
   "outputs": [
    {
     "name": "stdout",
     "output_type": "stream",
     "text": [
      "['Welcome', 'to', 'another', 'video', 'by', 'the', 'AI', 'and', 'DS', 'Channel', '.', 'In', 'todays', 'video', 'we', 'are', 'going', 'to', 'study', 'about', 'tokenization', '.', 'Dont', 'forget', 'to', 'subscribe', 'and', 'leave', 'a', 'like', 'if', 'you', 'enjoyed', 'this', 'video', '.']\n"
     ]
    }
   ],
   "source": [
    "word_tokens = word_tokenize(text)\n",
    "print(word_tokens)"
   ]
  },
  {
   "cell_type": "code",
   "execution_count": 6,
   "id": "b3767f67",
   "metadata": {},
   "outputs": [
    {
     "name": "stdout",
     "output_type": "stream",
     "text": [
      "['Welcome to another video by the AI and DS Channel.', 'In todays video we are going to study about tokenization.', 'Dont forget to subscribe and leave a like if you enjoyed this video.']\n"
     ]
    }
   ],
   "source": [
    "sentence_tokens = sent_tokenize(text)\n",
    "print(sentence_tokens)"
   ]
  },
  {
   "cell_type": "code",
   "execution_count": 7,
   "id": "889480a4",
   "metadata": {},
   "outputs": [],
   "source": [
    "from spacy.lang.en import English\n",
    "nlp = English()"
   ]
  },
  {
   "cell_type": "code",
   "execution_count": 9,
   "id": "8655914e",
   "metadata": {},
   "outputs": [
    {
     "name": "stdout",
     "output_type": "stream",
     "text": [
      "['Welcome', 'to', 'another', 'video', 'by', 'the', 'AI', 'and', 'DS', 'Channel', '.', 'In', 'todays', 'video', 'we', 'are', 'going', 'to', 'study', 'about', 'tokenization', '.', 'Do', 'nt', 'forget', 'to', 'subscribe', 'and', 'leave', 'a', 'like', 'if', 'you', 'enjoyed', 'this', 'video', '.']\n"
     ]
    }
   ],
   "source": [
    "word_tokens = nlp(text)\n",
    "word_tokens_list = []\n",
    "for token in word_tokens:\n",
    "    word_tokens_list.append(token.text)\n",
    "print(word_tokens_list)"
   ]
  },
  {
   "cell_type": "code",
   "execution_count": 10,
   "id": "56412687",
   "metadata": {},
   "outputs": [
    {
     "name": "stdout",
     "output_type": "stream",
     "text": [
      "['Welcome to another video by the AI and DS Channel.', 'In todays video we are going to study about tokenization.', 'Dont forget to subscribe and leave a like if you enjoyed this video.']\n"
     ]
    }
   ],
   "source": [
    "nlp = English()\n",
    "nlp.add_pipe('sentencizer')\n",
    "sent_tokens = nlp(text)\n",
    "sent_tokens_list = []\n",
    "for sent in sent_tokens.sents:\n",
    "    sent_tokens_list.append(sent.text)\n",
    "print(sent_tokens_list)"
   ]
  },
  {
   "cell_type": "code",
   "execution_count": 11,
   "id": "fba8c217",
   "metadata": {},
   "outputs": [],
   "source": [
    "from keras.preprocessing.text import text_to_word_sequence"
   ]
  },
  {
   "cell_type": "code",
   "execution_count": 12,
   "id": "453046db",
   "metadata": {},
   "outputs": [
    {
     "name": "stdout",
     "output_type": "stream",
     "text": [
      "['welcome', 'to', 'another', 'video', 'by', 'the', 'ai', 'and', 'ds', 'channel', 'in', 'todays', 'video', 'we', 'are', 'going', 'to', 'study', 'about', 'tokenization', 'dont', 'forget', 'to', 'subscribe', 'and', 'leave', 'a', 'like', 'if', 'you', 'enjoyed', 'this', 'video']\n"
     ]
    }
   ],
   "source": [
    "word_tokens = text_to_word_sequence(text)\n",
    "print(word_tokens)"
   ]
  },
  {
   "cell_type": "code",
   "execution_count": 13,
   "id": "71a81b5c",
   "metadata": {},
   "outputs": [
    {
     "name": "stdout",
     "output_type": "stream",
     "text": [
      "['welcome to another video by the ai and ds channel', ' in todays video we are going to study about tokenization', ' dont forget to subscribe and leave a like if you enjoyed this video', ' ']\n"
     ]
    }
   ],
   "source": [
    "sent_tokens = text_to_word_sequence(text, split=\".\")\n",
    "print(sent_tokens)"
   ]
  },
  {
   "cell_type": "code",
   "execution_count": null,
   "id": "6a1aea4f",
   "metadata": {},
   "outputs": [],
   "source": []
  }
 ],
 "metadata": {
  "kernelspec": {
   "display_name": "Python 3",
   "language": "python",
   "name": "python3"
  },
  "language_info": {
   "codemirror_mode": {
    "name": "ipython",
    "version": 3
   },
   "file_extension": ".py",
   "mimetype": "text/x-python",
   "name": "python",
   "nbconvert_exporter": "python",
   "pygments_lexer": "ipython3",
   "version": "3.8.8"
  }
 },
 "nbformat": 4,
 "nbformat_minor": 5
}
